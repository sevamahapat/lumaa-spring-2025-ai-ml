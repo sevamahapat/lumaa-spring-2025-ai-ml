{
 "cells": [
  {
   "cell_type": "code",
   "execution_count": 1,
   "id": "a59a3a45",
   "metadata": {},
   "outputs": [],
   "source": [
    "import numpy as np\n",
    "import pandas as pd\n",
    "from sklearn.feature_extraction.text import TfidfVectorizer\n",
    "from sklearn.metrics.pairwise import cosine_similarity"
   ]
  },
  {
   "cell_type": "markdown",
   "id": "3311bfae",
   "metadata": {},
   "source": [
    "# Movie Recommendation System using Content-Based Filtering\n",
    "This notebook loads movie metadata, preprocesses textual data, builds a TF-IDF model, and returns movie recommendations based on user input."
   ]
  },
  {
   "cell_type": "markdown",
   "id": "c58f31d1",
   "metadata": {},
   "source": [
    "## 1. Data Loading\n",
    "Loads the **TMDB movie dataset**"
   ]
  },
  {
   "cell_type": "code",
   "execution_count": 2,
   "id": "f0901dcc",
   "metadata": {},
   "outputs": [],
   "source": [
    "movies = pd.read_csv(\"tmdb/tmdb_5000_movies.csv\")\n",
    "credits = pd.read_csv(\"tmdb/tmdb_5000_credits.csv\")\n",
    "data = movies.merge(credits, on='title', how = \"inner\")"
   ]
  },
  {
   "cell_type": "markdown",
   "id": "d84941d1",
   "metadata": {},
   "source": [
    "## 2. Data Preprocessing\n",
    "Preprocesses movie descriptions, genres and keywords."
   ]
  },
  {
   "cell_type": "code",
   "execution_count": 3,
   "id": "914e2b44",
   "metadata": {},
   "outputs": [
    {
     "data": {
      "text/plain": [
       "budget                     0\n",
       "genres                     0\n",
       "homepage                3096\n",
       "id                         0\n",
       "keywords                   0\n",
       "original_language          0\n",
       "original_title             0\n",
       "overview                   3\n",
       "popularity                 0\n",
       "production_companies       0\n",
       "production_countries       0\n",
       "release_date               1\n",
       "revenue                    0\n",
       "runtime                    2\n",
       "spoken_languages           0\n",
       "status                     0\n",
       "tagline                  844\n",
       "title                      0\n",
       "vote_average               0\n",
       "vote_count                 0\n",
       "movie_id                   0\n",
       "cast                       0\n",
       "crew                       0\n",
       "dtype: int64"
      ]
     },
     "execution_count": 3,
     "metadata": {},
     "output_type": "execute_result"
    }
   ],
   "source": [
    "data.isnull().sum()"
   ]
  },
  {
   "cell_type": "code",
   "execution_count": 4,
   "id": "0945a82d",
   "metadata": {},
   "outputs": [],
   "source": [
    "data = data[[\"movie_id\", \"title\", \"overview\", \"genres\", \"keywords\", \"vote_average\"]]"
   ]
  },
  {
   "cell_type": "code",
   "execution_count": 5,
   "id": "4aa97aaa",
   "metadata": {},
   "outputs": [
    {
     "data": {
      "text/html": [
       "<div>\n",
       "<style scoped>\n",
       "    .dataframe tbody tr th:only-of-type {\n",
       "        vertical-align: middle;\n",
       "    }\n",
       "\n",
       "    .dataframe tbody tr th {\n",
       "        vertical-align: top;\n",
       "    }\n",
       "\n",
       "    .dataframe thead th {\n",
       "        text-align: right;\n",
       "    }\n",
       "</style>\n",
       "<table border=\"1\" class=\"dataframe\">\n",
       "  <thead>\n",
       "    <tr style=\"text-align: right;\">\n",
       "      <th></th>\n",
       "      <th>movie_id</th>\n",
       "      <th>title</th>\n",
       "      <th>overview</th>\n",
       "      <th>genres</th>\n",
       "      <th>keywords</th>\n",
       "      <th>vote_average</th>\n",
       "    </tr>\n",
       "  </thead>\n",
       "  <tbody>\n",
       "    <tr>\n",
       "      <th>0</th>\n",
       "      <td>19995</td>\n",
       "      <td>Avatar</td>\n",
       "      <td>In the 22nd century, a paraplegic Marine is di...</td>\n",
       "      <td>[{\"id\": 28, \"name\": \"Action\"}, {\"id\": 12, \"nam...</td>\n",
       "      <td>[{\"id\": 1463, \"name\": \"culture clash\"}, {\"id\":...</td>\n",
       "      <td>7.2</td>\n",
       "    </tr>\n",
       "    <tr>\n",
       "      <th>1</th>\n",
       "      <td>285</td>\n",
       "      <td>Pirates of the Caribbean: At World's End</td>\n",
       "      <td>Captain Barbossa, long believed to be dead, ha...</td>\n",
       "      <td>[{\"id\": 12, \"name\": \"Adventure\"}, {\"id\": 14, \"...</td>\n",
       "      <td>[{\"id\": 270, \"name\": \"ocean\"}, {\"id\": 726, \"na...</td>\n",
       "      <td>6.9</td>\n",
       "    </tr>\n",
       "    <tr>\n",
       "      <th>2</th>\n",
       "      <td>206647</td>\n",
       "      <td>Spectre</td>\n",
       "      <td>A cryptic message from Bond’s past sends him o...</td>\n",
       "      <td>[{\"id\": 28, \"name\": \"Action\"}, {\"id\": 12, \"nam...</td>\n",
       "      <td>[{\"id\": 470, \"name\": \"spy\"}, {\"id\": 818, \"name...</td>\n",
       "      <td>6.3</td>\n",
       "    </tr>\n",
       "    <tr>\n",
       "      <th>3</th>\n",
       "      <td>49026</td>\n",
       "      <td>The Dark Knight Rises</td>\n",
       "      <td>Following the death of District Attorney Harve...</td>\n",
       "      <td>[{\"id\": 28, \"name\": \"Action\"}, {\"id\": 80, \"nam...</td>\n",
       "      <td>[{\"id\": 849, \"name\": \"dc comics\"}, {\"id\": 853,...</td>\n",
       "      <td>7.6</td>\n",
       "    </tr>\n",
       "    <tr>\n",
       "      <th>4</th>\n",
       "      <td>49529</td>\n",
       "      <td>John Carter</td>\n",
       "      <td>John Carter is a war-weary, former military ca...</td>\n",
       "      <td>[{\"id\": 28, \"name\": \"Action\"}, {\"id\": 12, \"nam...</td>\n",
       "      <td>[{\"id\": 818, \"name\": \"based on novel\"}, {\"id\":...</td>\n",
       "      <td>6.1</td>\n",
       "    </tr>\n",
       "  </tbody>\n",
       "</table>\n",
       "</div>"
      ],
      "text/plain": [
       "   movie_id                                     title  \\\n",
       "0     19995                                    Avatar   \n",
       "1       285  Pirates of the Caribbean: At World's End   \n",
       "2    206647                                   Spectre   \n",
       "3     49026                     The Dark Knight Rises   \n",
       "4     49529                               John Carter   \n",
       "\n",
       "                                            overview  \\\n",
       "0  In the 22nd century, a paraplegic Marine is di...   \n",
       "1  Captain Barbossa, long believed to be dead, ha...   \n",
       "2  A cryptic message from Bond’s past sends him o...   \n",
       "3  Following the death of District Attorney Harve...   \n",
       "4  John Carter is a war-weary, former military ca...   \n",
       "\n",
       "                                              genres  \\\n",
       "0  [{\"id\": 28, \"name\": \"Action\"}, {\"id\": 12, \"nam...   \n",
       "1  [{\"id\": 12, \"name\": \"Adventure\"}, {\"id\": 14, \"...   \n",
       "2  [{\"id\": 28, \"name\": \"Action\"}, {\"id\": 12, \"nam...   \n",
       "3  [{\"id\": 28, \"name\": \"Action\"}, {\"id\": 80, \"nam...   \n",
       "4  [{\"id\": 28, \"name\": \"Action\"}, {\"id\": 12, \"nam...   \n",
       "\n",
       "                                            keywords  vote_average  \n",
       "0  [{\"id\": 1463, \"name\": \"culture clash\"}, {\"id\":...           7.2  \n",
       "1  [{\"id\": 270, \"name\": \"ocean\"}, {\"id\": 726, \"na...           6.9  \n",
       "2  [{\"id\": 470, \"name\": \"spy\"}, {\"id\": 818, \"name...           6.3  \n",
       "3  [{\"id\": 849, \"name\": \"dc comics\"}, {\"id\": 853,...           7.6  \n",
       "4  [{\"id\": 818, \"name\": \"based on novel\"}, {\"id\":...           6.1  "
      ]
     },
     "execution_count": 5,
     "metadata": {},
     "output_type": "execute_result"
    }
   ],
   "source": [
    "data.head()"
   ]
  },
  {
   "cell_type": "code",
   "execution_count": 6,
   "id": "26727fe1",
   "metadata": {},
   "outputs": [],
   "source": [
    "data['overview'].dropna(inplace = True)"
   ]
  },
  {
   "cell_type": "code",
   "execution_count": 7,
   "id": "debe8918",
   "metadata": {},
   "outputs": [],
   "source": [
    "# Convert text to lowercase and strip whitespace.\n",
    "data['overview'] = data['overview'].apply(lambda text: text.lower().strip() if isinstance(text, str) else '')"
   ]
  },
  {
   "cell_type": "markdown",
   "id": "0579b146",
   "metadata": {},
   "source": [
    "### Extract Names from JSON-like Objects"
   ]
  },
  {
   "cell_type": "code",
   "execution_count": 8,
   "id": "51ebd326",
   "metadata": {},
   "outputs": [],
   "source": [
    "import ast\n",
    "\n",
    "def extract_names(obj):\n",
    "    \"\"\"Convert JSON-like list of dictionaries into a space-separated string.\"\"\"\n",
    "    try:\n",
    "        obj_list = ast.literal_eval(obj)  # Convert string to list\n",
    "        return \" \".join([i['name'].replace(\" \", \"\") for i in obj_list])  # Remove spaces in names\n",
    "    except (ValueError, SyntaxError):\n",
    "        return \"\""
   ]
  },
  {
   "cell_type": "code",
   "execution_count": 9,
   "id": "c7be336f",
   "metadata": {},
   "outputs": [],
   "source": [
    "# Process genres and keywords\n",
    "data['genres'] = data['genres'].apply(extract_names)\n",
    "data['keywords'] = data['keywords'].apply(extract_names)"
   ]
  },
  {
   "cell_type": "code",
   "execution_count": 10,
   "id": "0fd1e286",
   "metadata": {},
   "outputs": [],
   "source": [
    "data = data[data['vote_average'] >= 5.0]  # Keep only higher-rated movies"
   ]
  },
  {
   "cell_type": "code",
   "execution_count": 11,
   "id": "10b6b1d9",
   "metadata": {},
   "outputs": [],
   "source": [
    "# Combine textual features\n",
    "data['tags'] = data['overview'] + \" \" + data['genres'] + \" \" + data['keywords']"
   ]
  },
  {
   "cell_type": "code",
   "execution_count": 12,
   "id": "6ca5a380",
   "metadata": {},
   "outputs": [
    {
     "data": {
      "text/html": [
       "<div>\n",
       "<style scoped>\n",
       "    .dataframe tbody tr th:only-of-type {\n",
       "        vertical-align: middle;\n",
       "    }\n",
       "\n",
       "    .dataframe tbody tr th {\n",
       "        vertical-align: top;\n",
       "    }\n",
       "\n",
       "    .dataframe thead th {\n",
       "        text-align: right;\n",
       "    }\n",
       "</style>\n",
       "<table border=\"1\" class=\"dataframe\">\n",
       "  <thead>\n",
       "    <tr style=\"text-align: right;\">\n",
       "      <th></th>\n",
       "      <th>movie_id</th>\n",
       "      <th>title</th>\n",
       "      <th>overview</th>\n",
       "      <th>genres</th>\n",
       "      <th>keywords</th>\n",
       "      <th>vote_average</th>\n",
       "      <th>tags</th>\n",
       "    </tr>\n",
       "  </thead>\n",
       "  <tbody>\n",
       "    <tr>\n",
       "      <th>0</th>\n",
       "      <td>19995</td>\n",
       "      <td>Avatar</td>\n",
       "      <td>in the 22nd century, a paraplegic marine is di...</td>\n",
       "      <td>Action Adventure Fantasy ScienceFiction</td>\n",
       "      <td>cultureclash future spacewar spacecolony socie...</td>\n",
       "      <td>7.2</td>\n",
       "      <td>in the 22nd century, a paraplegic marine is di...</td>\n",
       "    </tr>\n",
       "    <tr>\n",
       "      <th>1</th>\n",
       "      <td>285</td>\n",
       "      <td>Pirates of the Caribbean: At World's End</td>\n",
       "      <td>captain barbossa, long believed to be dead, ha...</td>\n",
       "      <td>Adventure Fantasy Action</td>\n",
       "      <td>ocean drugabuse exoticisland eastindiatradingc...</td>\n",
       "      <td>6.9</td>\n",
       "      <td>captain barbossa, long believed to be dead, ha...</td>\n",
       "    </tr>\n",
       "    <tr>\n",
       "      <th>2</th>\n",
       "      <td>206647</td>\n",
       "      <td>Spectre</td>\n",
       "      <td>a cryptic message from bond’s past sends him o...</td>\n",
       "      <td>Action Adventure Crime</td>\n",
       "      <td>spy basedonnovel secretagent sequel mi6 britis...</td>\n",
       "      <td>6.3</td>\n",
       "      <td>a cryptic message from bond’s past sends him o...</td>\n",
       "    </tr>\n",
       "    <tr>\n",
       "      <th>3</th>\n",
       "      <td>49026</td>\n",
       "      <td>The Dark Knight Rises</td>\n",
       "      <td>following the death of district attorney harve...</td>\n",
       "      <td>Action Crime Drama Thriller</td>\n",
       "      <td>dccomics crimefighter terrorist secretidentity...</td>\n",
       "      <td>7.6</td>\n",
       "      <td>following the death of district attorney harve...</td>\n",
       "    </tr>\n",
       "    <tr>\n",
       "      <th>4</th>\n",
       "      <td>49529</td>\n",
       "      <td>John Carter</td>\n",
       "      <td>john carter is a war-weary, former military ca...</td>\n",
       "      <td>Action Adventure ScienceFiction</td>\n",
       "      <td>basedonnovel mars medallion spacetravel prince...</td>\n",
       "      <td>6.1</td>\n",
       "      <td>john carter is a war-weary, former military ca...</td>\n",
       "    </tr>\n",
       "  </tbody>\n",
       "</table>\n",
       "</div>"
      ],
      "text/plain": [
       "   movie_id                                     title  \\\n",
       "0     19995                                    Avatar   \n",
       "1       285  Pirates of the Caribbean: At World's End   \n",
       "2    206647                                   Spectre   \n",
       "3     49026                     The Dark Knight Rises   \n",
       "4     49529                               John Carter   \n",
       "\n",
       "                                            overview  \\\n",
       "0  in the 22nd century, a paraplegic marine is di...   \n",
       "1  captain barbossa, long believed to be dead, ha...   \n",
       "2  a cryptic message from bond’s past sends him o...   \n",
       "3  following the death of district attorney harve...   \n",
       "4  john carter is a war-weary, former military ca...   \n",
       "\n",
       "                                    genres  \\\n",
       "0  Action Adventure Fantasy ScienceFiction   \n",
       "1                 Adventure Fantasy Action   \n",
       "2                   Action Adventure Crime   \n",
       "3              Action Crime Drama Thriller   \n",
       "4          Action Adventure ScienceFiction   \n",
       "\n",
       "                                            keywords  vote_average  \\\n",
       "0  cultureclash future spacewar spacecolony socie...           7.2   \n",
       "1  ocean drugabuse exoticisland eastindiatradingc...           6.9   \n",
       "2  spy basedonnovel secretagent sequel mi6 britis...           6.3   \n",
       "3  dccomics crimefighter terrorist secretidentity...           7.6   \n",
       "4  basedonnovel mars medallion spacetravel prince...           6.1   \n",
       "\n",
       "                                                tags  \n",
       "0  in the 22nd century, a paraplegic marine is di...  \n",
       "1  captain barbossa, long believed to be dead, ha...  \n",
       "2  a cryptic message from bond’s past sends him o...  \n",
       "3  following the death of district attorney harve...  \n",
       "4  john carter is a war-weary, former military ca...  "
      ]
     },
     "execution_count": 12,
     "metadata": {},
     "output_type": "execute_result"
    }
   ],
   "source": [
    "data.head()"
   ]
  },
  {
   "cell_type": "code",
   "execution_count": 13,
   "id": "1fdf6966",
   "metadata": {},
   "outputs": [],
   "source": [
    "data = data.reset_index(drop=True)"
   ]
  },
  {
   "cell_type": "markdown",
   "id": "eae43972",
   "metadata": {},
   "source": [
    "## 3. Build TF-IDF Model\n",
    "Builds a TF-IDF matrix to transform text into numerical vectors"
   ]
  },
  {
   "cell_type": "code",
   "execution_count": 14,
   "id": "a2b7b853",
   "metadata": {},
   "outputs": [],
   "source": [
    "# Build TF-IDF Model\n",
    "def build_tfidf_matrix(data, text_column):\n",
    "    \"\"\"Generate TF-IDF matrix for item descriptions.\"\"\"\n",
    "    vectorizer = TfidfVectorizer(stop_words='english')\n",
    "    tfidf_matrix = vectorizer.fit_transform(data[text_column])\n",
    "    return vectorizer, tfidf_matrix"
   ]
  },
  {
   "cell_type": "markdown",
   "id": "927133b0",
   "metadata": {},
   "source": [
    "## 4. Get Recommendations\n",
    "This function takes a user's input and finds the most similar movies based on text similarity. Using TF-IDF vectorization and cosine similarity, it ranks and returns the top N recommendations."
   ]
  },
  {
   "cell_type": "code",
   "execution_count": 15,
   "id": "0dedff48",
   "metadata": {},
   "outputs": [],
   "source": [
    "# Get Recommendations\n",
    "def get_recommendations(user_input, vectorizer, tfidf_matrix, data, top_n=5):\n",
    "    \"\"\"Return top N most similar items to user input.\"\"\"\n",
    "    user_tfidf = vectorizer.transform([user_input])\n",
    "    similarity_scores = cosine_similarity(user_tfidf, tfidf_matrix).flatten()\n",
    "    valid_indices = np.where(similarity_scores > 0)[0]  # Keep only valid indices\n",
    "    top_indices = valid_indices[np.argsort(similarity_scores[valid_indices])][-top_n:][::-1]\n",
    "    return data.iloc[top_indices][['title', 'tags']], similarity_scores[top_indices]"
   ]
  },
  {
   "cell_type": "markdown",
   "id": "f293656c",
   "metadata": {},
   "source": [
    "## 5. Execute Movie Recommendation\n",
    "This function orchestrates TF-IDF computation, and generates movie recommendations based on user input."
   ]
  },
  {
   "cell_type": "code",
   "execution_count": 16,
   "id": "aa229b60",
   "metadata": {},
   "outputs": [],
   "source": [
    "def recommend_movies(user_input):\n",
    "    \"\"\"Run recommendation system with user input.\"\"\"\n",
    "    \n",
    "    # Build TF-IDF matrix\n",
    "    vectorizer, tfidf_matrix = build_tfidf_matrix(data, 'tags')\n",
    "\n",
    "    # Get recommendations\n",
    "    recommendations, scores = get_recommendations(user_input, vectorizer, tfidf_matrix, data)\n",
    "    \n",
    "    # Print results\n",
    "    print(\"Top Recommendations:\")\n",
    "    for i, (title, desc) in enumerate(zip(recommendations['title'], recommendations['tags'])):\n",
    "        print(f\"{i+1}. {title} (Score: {scores[i]:.4f})\")"
   ]
  },
  {
   "cell_type": "markdown",
   "id": "e77ff814",
   "metadata": {},
   "source": [
    "## 6. Run Recommendation System"
   ]
  },
  {
   "cell_type": "code",
   "execution_count": 17,
   "id": "2b40f7cf",
   "metadata": {},
   "outputs": [
    {
     "name": "stdout",
     "output_type": "stream",
     "text": [
      "Enter a description of the kind of movies you like: I love thrilling action movies set in space.\n",
      "Top Recommendations:\n",
      "1. Grindhouse (Score: 0.2312)\n",
      "2. Space Pirate Captain Harlock (Score: 0.1832)\n",
      "3. Lockout (Score: 0.1549)\n",
      "4. Blow Out (Score: 0.1532)\n",
      "5. Dragon Blade (Score: 0.1381)\n"
     ]
    }
   ],
   "source": [
    "if __name__ == \"__main__\":\n",
    "    user_input = input(\"Enter a description of the kind of movies you like: \")\n",
    "    recommend_movies(user_input)"
   ]
  },
  {
   "cell_type": "code",
   "execution_count": null,
   "id": "fc2ec252",
   "metadata": {},
   "outputs": [],
   "source": []
  }
 ],
 "metadata": {
  "kernelspec": {
   "display_name": "Python 3 (ipykernel)",
   "language": "python",
   "name": "python3"
  },
  "language_info": {
   "codemirror_mode": {
    "name": "ipython",
    "version": 3
   },
   "file_extension": ".py",
   "mimetype": "text/x-python",
   "name": "python",
   "nbconvert_exporter": "python",
   "pygments_lexer": "ipython3",
   "version": "3.9.12"
  }
 },
 "nbformat": 4,
 "nbformat_minor": 5
}
